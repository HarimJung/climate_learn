{
  "nbformat": 4,
  "nbformat_minor": 0,
  "metadata": {
    "colab": {
      "provenance": [],
      "mount_file_id": "1HZfa5KANKyls4DtrwpIZWASq0x76olJ5",
      "authorship_tag": "ABX9TyNtNr1iIXhleVafsr/VcxH2",
      "include_colab_link": true
    },
    "kernelspec": {
      "name": "python3",
      "display_name": "Python 3"
    },
    "language_info": {
      "name": "python"
    }
  },
  "cells": [
    {
      "cell_type": "markdown",
      "metadata": {
        "id": "view-in-github",
        "colab_type": "text"
      },
      "source": [
        "<a href=\"https://colab.research.google.com/github/HarimJung/climate_learn/blob/master/Visual_Climate_backend_AUTO.ipynb\" target=\"_parent\"><img src=\"https://colab.research.google.com/assets/colab-badge.svg\" alt=\"Open In Colab\"/></a>"
      ]
    },
    {
      "cell_type": "code",
      "execution_count": null,
      "metadata": {
        "colab": {
          "base_uri": "https://localhost:8080/"
        },
        "id": "Wn0Uul-dvCcX",
        "outputId": "25a64dc5-0d29-4f7e-fb61-92b933395851"
      },
      "outputs": [
        {
          "output_type": "stream",
          "name": "stdout",
          "text": [
            "Requirement already satisfied: pandas in /usr/local/lib/python3.10/dist-packages (2.0.3)\n",
            "Requirement already satisfied: python-dateutil>=2.8.2 in /usr/local/lib/python3.10/dist-packages (from pandas) (2.8.2)\n",
            "Requirement already satisfied: pytz>=2020.1 in /usr/local/lib/python3.10/dist-packages (from pandas) (2023.4)\n",
            "Requirement already satisfied: tzdata>=2022.1 in /usr/local/lib/python3.10/dist-packages (from pandas) (2024.1)\n",
            "Requirement already satisfied: numpy>=1.21.0 in /usr/local/lib/python3.10/dist-packages (from pandas) (1.25.2)\n",
            "Requirement already satisfied: six>=1.5 in /usr/local/lib/python3.10/dist-packages (from python-dateutil>=2.8.2->pandas) (1.16.0)\n",
            "Requirement already satisfied: requests in /usr/local/lib/python3.10/dist-packages (2.31.0)\n",
            "Requirement already satisfied: pandas in /usr/local/lib/python3.10/dist-packages (2.0.3)\n",
            "Requirement already satisfied: charset-normalizer<4,>=2 in /usr/local/lib/python3.10/dist-packages (from requests) (3.3.2)\n",
            "Requirement already satisfied: idna<4,>=2.5 in /usr/local/lib/python3.10/dist-packages (from requests) (3.6)\n",
            "Requirement already satisfied: urllib3<3,>=1.21.1 in /usr/local/lib/python3.10/dist-packages (from requests) (2.0.7)\n",
            "Requirement already satisfied: certifi>=2017.4.17 in /usr/local/lib/python3.10/dist-packages (from requests) (2024.2.2)\n",
            "Requirement already satisfied: python-dateutil>=2.8.2 in /usr/local/lib/python3.10/dist-packages (from pandas) (2.8.2)\n",
            "Requirement already satisfied: pytz>=2020.1 in /usr/local/lib/python3.10/dist-packages (from pandas) (2023.4)\n",
            "Requirement already satisfied: tzdata>=2022.1 in /usr/local/lib/python3.10/dist-packages (from pandas) (2024.1)\n",
            "Requirement already satisfied: numpy>=1.21.0 in /usr/local/lib/python3.10/dist-packages (from pandas) (1.25.2)\n",
            "Requirement already satisfied: six>=1.5 in /usr/local/lib/python3.10/dist-packages (from python-dateutil>=2.8.2->pandas) (1.16.0)\n",
            "Drive already mounted at /content/drive; to attempt to forcibly remount, call drive.mount(\"/content/drive\", force_remount=True).\n"
          ]
        }
      ],
      "source": [
        "!pip install pandas\n",
        "!pip install requests pandas\n",
        "from google.colab import drive\n",
        "drive.mount('/content/drive')\n"
      ]
    },
    {
      "cell_type": "code",
      "source": [],
      "metadata": {
        "id": "CnGbxruoIsHj"
      },
      "execution_count": null,
      "outputs": []
    },
    {
      "source": [
        "import pandas as pd\n",
        "import requests\n",
        "import os\n",
        "\n",
        "# ... (rest of your code)\n",
        "\n",
        "# Function to fetch and save API data as CSV\n",
        "def fetch_and_save_api_data(row):\n",
        "    category = row[\"Category\"].replace(\"/\", \"_\").replace(\" \", \"_\")\n",
        "    group = row[\"Group\"].replace(\"/\", \"_\").replace(\" \", \"_\")\n",
        "    indicator = row[\"Indicator\"].replace(\"/\", \"_\").replace(\" \", \"_\")\n",
        "    api_url = row[\"API URL\"]\n",
        "    filename = f\"{category}_{group}_{indicator}.csv\"\n",
        "    full_path = os.path.join(folder_path, filename)\n",
        "\n",
        "    response = requests.get(api_url)\n",
        "\n",
        "    # Check response status code and content type\n",
        "    if response.status_code == 200 and 'application/json' in response.headers.get('Content-Type', ''):\n",
        "        try:\n",
        "            data = response.json()\n",
        "            # Assuming data['features'] contains the relevant data\n",
        "            if 'features' in data and len(data['features']) > 0:\n",
        "                features_data = [feature['attributes'] for feature in data['features']]\n",
        "                df_api = pd.DataFrame(features_data)\n",
        "                df_api.to_csv(full_path, index=False)\n",
        "                print(f\"File saved: {filename}\")\n",
        "            else:\n",
        "                print(f\"No data found in features for {filename}\")\n",
        "        except ValueError as e:\n",
        "            print(f\"Error decoding JSON for {filename}: {e}\")\n",
        "            print(\"Response content:\", response.text)  # Print the response for debugging\n",
        "    else:\n",
        "        print(f\"Failed to fetch data for {filename}. Status code: {response.status_code}\")\n",
        "        print(\"Response content:\", response.text)  # Print the response for debugging\n",
        "\n",
        "# Iterate over each row in the DataFrame and fetch API data\n",
        "for index, row in df.iterrows():\n",
        "    fetch_and_save_api_data(row)"
      ],
      "cell_type": "code",
      "metadata": {
        "id": "-Z3DkjLCH76B",
        "outputId": "35925240-925e-4851-d987-a2625216c290",
        "colab": {
          "base_uri": "https://localhost:8080/"
        }
      },
      "execution_count": 5,
      "outputs": [
        {
          "output_type": "stream",
          "name": "stdout",
          "text": [
            "File saved: Greenhouse_Gas_(GHG)_Emissions_National_Inventories_and_Targets_National_Greenhouse_Gas_Emissions_Inventories_and_Implied_National_Mitigation_(Nationally_Determined_Contributions)_Targets.csv\n",
            "File saved: Greenhouse_Gas_(GHG)_Emissions_CO2_Emissions_Intensities_and_Multipliers_CO₂_Emissions,_Emissions_Intensities,_and_Emissions_Multipliers.csv\n",
            "File saved: Greenhouse_Gas_(GHG)_Emissions_Carbon_Footprints_from_Economic_Activity_CO₂_Emissions_embodied_in_Domestic_Final_Demand,_Production,_and_Trade.csv\n",
            "File saved: Greenhouse_Gas_(GHG)_Emissions_Carbon_Footprints_from_Economic_Activity_Direct_Investment-related_Indicators.csv\n",
            "File saved: Mitigation_Environmental_Protection_Expenditures_Environmental_Protection_Expenditures.csv\n",
            "File saved: Mitigation;_Transition_to_a_Low-Carbon_Economy_Renewable_Energy_Renewable_Energy.csv\n",
            "File saved: Mitigation;_Transition_to_a_Low-Carbon_Economy_Trade_in_Low_Carbon_Technology_Trade_in_Low_Carbon_Technology_Products.csv\n",
            "File saved: Adaptation_Climate-driven_INFORM_Risk_Climate-driven_INFORM_Risk.csv\n",
            "Failed to fetch data for Adaptation_Climate-related_Disasters_Frequency_Climate-related_Disasters_Frequency.csv. Status code: 200\n",
            "Response content: <html lang=\"en\">\n",
            "<head>\n",
            "  <title>Home</title>\n",
            "  <link href='/ESRI.ArcGIS.SDS.REST.css' rel='stylesheet' type='text/css'>\n",
            "  <link rel='SHORTCUT ICON' href='/favicon.ico'>\n",
            "<meta http-equiv=\"Content-Type\" content=\"text/html; charset=UTF-8\"/> \n",
            "  <meta name=\"keywords\" content=\"ArcGIS REST Services Directory Root\">\n",
            "</head>\n",
            "<body>\n",
            "<table width=\"100%\" id=\"userTable\" class=\"userTable\">\n",
            "<tr>\n",
            "<td class=\"titlecell\">ArcGIS REST Services Directory</td>\n",
            "</tr>\n",
            "</table>\n",
            "<table id=\"navTable\" class=\"navTable\" width=\"100%\">\n",
            "<tbody>\n",
            "<tr valign=\"top\">\n",
            "<td class=\"breadcrumbs\">\n",
            "<span id=\"homeBreadcrumbs\"><a href=\"\">Home</a> > <a href=\"\">services</a> </span></td>\n",
            "<td align=\"right\">\n",
            "<a href=\"\">Admin</a> | <a href=\"http://resources.arcgis.com/en/help/arcgis-rest-api/\" target=\"_blank\">API Reference</a></td>\n",
            "</tr>\n",
            "</tbody>\n",
            "</table>\n",
            "<div id=\"jsonLinkTable\">\n",
            "<table>\n",
            "<tr>\n",
            "<td class=\"apiref\">\n",
            "<a href=\"?f=pjson\" target=\"_blank\">JSON</a>\n",
            "</td>\n",
            "</tr>\n",
            "</table>\n",
            "</div>\n",
            "<div class='restHeader'>\n",
            "<h2>Home</h2>\n",
            "</div>\n",
            "<div class='restBody'>\n",
            "<div class=\"restErrors\">\n",
            "Invalid URL<br/>\n",
            "</div>\n",
            "</div>\n",
            "</body>\n",
            "</html>\n",
            "\n"
          ]
        }
      ]
    }
  ]
}