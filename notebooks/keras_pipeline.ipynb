{
 "cells": [
  {
   "cell_type": "markdown",
   "metadata": {},
   "source": [
    "# Climate modeling with Keras\n",
    "This notebook illustrates the process of creating simple neural network models using the Keras framework, processing data for input to the models for training and prediction, using a scikit-learn Pipeline, and the use of numpy and xarray for data wrangling and I/O with datasets contained within NetCDF files. "
   ]
  },
  {
   "cell_type": "markdown",
   "metadata": {},
   "source": [
    "#### Specify NetCDF files used for training and prediciton inputs\n",
    "These are low resolution versions of NCAR CAM inputs/outputs, located in the `example_data` directory of this project's git repository."
   ]
  },
  {
   "cell_type": "code",
   "execution_count": 3,
   "metadata": {},
   "outputs": [],
   "source": [
    "data_dir = \"/home/james/git/climate_learn/example_data\"\n",
    "result_dir = \"/home/james/data/test/climate_learn\"\n",
    "\n",
    "# files used as feature inputs for model training\n",
    "netcdf_features_train = data_dir + \"/fv091x180L26_moist_HS.cam.h0.2001-01-11-00000_lowres.nc\"\n",
    "\n",
    "# files used as label inputs for model training\n",
    "netcdf_labels_train = data_dir + \"/fv091x180L26_moist_HS.cam.h1.2001-01-11-00000_lowres.nc\""
   ]
  },
  {
   "cell_type": "markdown",
   "metadata": {},
   "source": [
    "### Load datasets for training and prediction\n",
    "\n",
    "We'll define a function to extract an array of variable(s) for a single level from an xarray DataSet, and another to extract both features and labels from NetCDF."
   ]
  },
  {
   "cell_type": "code",
   "execution_count": 9,
   "metadata": {},
   "outputs": [],
   "source": [
    "import numpy as np\n",
    "import xarray as xr\n",
    "\n",
    "def extract_data_array(dataset,\n",
    "                       variables,\n",
    "                       lev):\n",
    "\n",
    "    # allocate the array\n",
    "    arr = np.empty(shape=[dataset.time.size, \n",
    "                          dataset.lat.size, \n",
    "                          dataset.lon.size, \n",
    "                          len(variables)],\n",
    "                   dtype=np.float64)\n",
    "    \n",
    "    # for each variable we'll extract the values \n",
    "    for var_index, var in enumerate(variables):\n",
    "\n",
    "        # if we have (time, lev, lat, lon), then use level parameter\n",
    "        dimensions = dataset.variables[var].dims\n",
    "        if dimensions == ('time', 'lev', 'lat', 'lon'):\n",
    "            values = dataset[var].values[:, lev, :, :]\n",
    "        elif dimensions == ('time', 'lat', 'lon'):\n",
    "            values = dataset[var].values[:, :, :]\n",
    "        else:\n",
    "            raise ValueError(\"Unsupported variable dimensions: {dims}\".format(dims=dimensions))\n",
    "\n",
    "        # add the values into the array at the variable's position\n",
    "        arr[:, :, :, var_index] = values\n",
    "    \n",
    "    return arr\n",
    "    \n",
    "    \n",
    "def extract_features_labels(netdcf_features, \n",
    "                            netcdf_labels,\n",
    "                            feature_vars,\n",
    "                            label_vars,\n",
    "                            level=0):\n",
    "    \"\"\"\n",
    "    Extracts feature and label data from specified NetCDF files for a single level as numpy arrays.\n",
    "    \n",
    "    The feature and label NetCDFs are expected to have matching time, level, lat, and lon coordinate variables.\n",
    "    \n",
    "    Returns two arrays: the first for features and the second for labels. Arrays will have shape (time, lat, lon, var),\n",
    "    where var is the number of feature or label variables. For example if the dimensions of feature data variables in \n",
    "    the NetCDF is (time: 360, lev: 26, lat: 120, lon: 180) and the features specified are [\"T\", \"U\"] then the resulting\n",
    "    features array will have shape (360, 120, 180, 2), with the first feature variable \"T\" corresponding to array[:, :, :, 0]\n",
    "    and the second feature variable \"U\" corresponding to array[:, :, :, 1].\n",
    "    \n",
    "    :param netdcf_features: one or more NetCDF files containing feature variables, can be single file or list\n",
    "    :param netdcf_features: one or more NetCDF files containing label variables, can be single file or list\n",
    "    :param feature_vars: list of feature variable names to be extracted from the features NetCDF\n",
    "    :param label_vars: list of label variable names to be extracted from the labels NetCDF\n",
    "    :param level: index of the level to be extracted (all times/lats/lons at this level for each feature/label variable)\n",
    "    :return: two 4-D numpy arrays, the first for features and the second for labels\n",
    "    \"\"\"\n",
    "    \n",
    "    # open the features (flows) and labels (tendencies) as xarray DataSets\n",
    "    ds_features = xr.open_mfdataset(paths=netdcf_features)\n",
    "    ds_labels = xr.open_mfdataset(paths=netcdf_labels)\n",
    "\n",
    "    # confirm that we have datasets that match on the time, lev, lat, and lon dimension/coordinate\n",
    "    if np.any(ds_features.variables['time'].values != ds_labels.variables['time'].values):\n",
    "        raise ValueError('Non-matching time values between feature and label datasets')\n",
    "    if np.any(ds_features.variables['lev'].values != ds_labels.variables['lev'].values):\n",
    "        raise ValueError('Non-matching level values between feature and label datasets')\n",
    "    if np.any(ds_features.variables['lat'].values != ds_labels.variables['lat'].values):\n",
    "        raise ValueError('Non-matching lat values between feature and label datasets')\n",
    "    if np.any(ds_features.variables['lon'].values != ds_labels.variables['lon'].values):\n",
    "        raise ValueError('Non-matching lon values between feature and label datasets')\n",
    "\n",
    "    # extract feature and label arrays at the specified level\n",
    "    array_features = extract_data_array(ds_features, feature_vars, level)\n",
    "    array_labels = extract_data_array(ds_labels, label_vars, level)\n",
    "    \n",
    "    return array_features, array_labels"
   ]
  },
  {
   "cell_type": "markdown",
   "metadata": {},
   "source": [
    "#### Declare the variables that will be used as features and labels for training and prediction\n",
    "The feature variables being used are 'PS', 'T', 'U', and 'V'. The label variable is 'PTTEND'."
   ]
  },
  {
   "cell_type": "code",
   "execution_count": 5,
   "metadata": {},
   "outputs": [],
   "source": [
    "features = [\"PS\", \"T\", \"U\", \"V\"]\n",
    "labels = [\"PTTEND\"]"
   ]
  },
  {
   "cell_type": "markdown",
   "metadata": {},
   "source": [
    "#### Load datsets\n",
    "Read NetCDF files to load feature and label datasets that will be used for training.\n",
    "\n",
    "All files should share the same time, level, lat, and lon coordinates, with each file's feature or label variables having shape (times, levels, lats, lons)."
   ]
  },
  {
   "cell_type": "code",
   "execution_count": 11,
   "metadata": {},
   "outputs": [],
   "source": [
    "train_x, train_y = extract_features_labels(netcdf_features_train,\n",
    "                                           netcdf_labels_train,\n",
    "                                           features,\n",
    "                                           labels,\n",
    "                                           level=0)"
   ]
  },
  {
   "cell_type": "markdown",
   "metadata": {},
   "source": [
    "#### Get data dimensions\n",
    "Get the dimension sizes of our datasets for later use."
   ]
  },
  {
   "cell_type": "code",
   "execution_count": 12,
   "metadata": {},
   "outputs": [],
   "source": [
    "size_times_train = train_x.shape[0]\n",
    "size_times_predict = predict_x.shape[0]\n",
    "size_lat = train_x.shape[1]\n",
    "size_lon = train_x.shape[2]\n",
    "size_lev = xr.open_dataset(netcdf_features_predict[0]).lev.size"
   ]
  },
  {
   "cell_type": "markdown",
   "metadata": {},
   "source": [
    "### Custom Transformer\n",
    "\n",
    "Neural network models work much better if all values are scaled into a range such as between 0 and 1. For this purpose we'll use scikit-learn's MinMaxScaler for now within a custom Scaler class that can be used within a scikit-lean Pipeline."
   ]
  },
  {
   "cell_type": "code",
   "execution_count": 14,
   "metadata": {},
   "outputs": [],
   "source": [
    "from sklearn.base import TransformerMixin\n",
    "from sklearn.preprocessing import MinMaxScaler\n",
    "\n",
    "class Scaler(TransformerMixin):\n",
    "\n",
    "    def __init__(self, features):\n",
    "\n",
    "        # initialize an ordered dict to store scalers for each feature\n",
    "        self.scalers = OrderedDict().fromkeys(features, MinMaxScaler(feature_range=(0, 1)))\n",
    "\n",
    "    def transform(self, values):\n",
    "        \"\"\"\n",
    "        Transforms a 4-D array of values, expected to have shape:\n",
    "        (times, lats, lons, vars).\n",
    "\n",
    "        :param values:\n",
    "        :return:\n",
    "        \"\"\"\n",
    "\n",
    "        # make new arrays to contain the scaled values we'll return\n",
    "        scaled_features = np.empty(shape=values.shape)\n",
    "\n",
    "        # data is 4-D with shape (times, lats, lons, vars), scalers can only\n",
    "        # work on 2-D arrays, so for each variable we scale the corresponding\n",
    "        # 3-D array of values after flattening it, then reshape back into\n",
    "        # the original shape\n",
    "        var_ix = 0\n",
    "        for variable, scaler in self.scalers.items():\n",
    "            variable = values[:, :, :, var_ix].flatten().reshape(-1, 1)\n",
    "            scaled_feature = scaler.fit_transform(variable)\n",
    "            reshaped_scaled_feature = np.reshape(scaled_feature,\n",
    "                                                 newshape=(values.shape[0],\n",
    "                                                           values.shape[1],\n",
    "                                                           values.shape[2]))\n",
    "            scaled_features[:, :, :, var_ix] = reshaped_scaled_feature\n",
    "            var_ix += 1\n",
    "\n",
    "        # return the scaled values (the scalers have been fitted to the data)\n",
    "        return scaled_features\n",
    "\n",
    "    def fit(self, x=None):\n",
    "\n",
    "        return self\n"
   ]
  },
  {
   "cell_type": "markdown",
   "metadata": {},
   "source": [
    "### Define Keras models to use for prediciton\n",
    "We'll define two neural network models using the Keras library with TensorFlow as its backend. One of these models will contain only simple densely connected layers, and another will contain a both convolutional layer and a densely connected layer. We'll use both of these for prediction of labels corresponding to the results of NCAR CAM model runs involving computation of the Held-Suarez test case. Initially we'll focus on the input feature variables PS, T, U, and V and the output label PTTEND."
   ]
  },
  {
   "cell_type": "markdown",
   "metadata": {},
   "source": [
    "#### Dense layer-only model definition"
   ]
  },
  {
   "cell_type": "code",
   "execution_count": 16,
   "metadata": {},
   "outputs": [
    {
     "name": "stderr",
     "output_type": "stream",
     "text": [
      "Using TensorFlow backend.\n"
     ]
    },
    {
     "name": "stdout",
     "output_type": "stream",
     "text": [
      "_________________________________________________________________\n",
      "Layer (type)                 Output Shape              Param #   \n",
      "=================================================================\n",
      "dense_1 (Dense)              (None, 4)                 20        \n",
      "_________________________________________________________________\n",
      "dense_2 (Dense)              (None, 8)                 40        \n",
      "_________________________________________________________________\n",
      "dense_3 (Dense)              (None, 1)                 9         \n",
      "=================================================================\n",
      "Total params: 69\n",
      "Trainable params: 69\n",
      "Non-trainable params: 0\n",
      "_________________________________________________________________\n"
     ]
    }
   ],
   "source": [
    "from keras.models import Sequential\n",
    "from keras.layers import Dense\n",
    "\n",
    "# define the model\n",
    "dense_model = Sequential()\n",
    "\n",
    "# add a fully-connected hidden layer with the same number of neurons as input attributes (features)\n",
    "dense_model.add(Dense(len(features), input_dim=len(features), activation='relu'))\n",
    "\n",
    "# add a fully-connected hidden layer with the twice the number of neurons as input attributes (features)\n",
    "dense_model.add(Dense(len(features) * 2, activation='relu'))\n",
    "\n",
    "# output layer uses no activation function since we are interested\n",
    "# in predicting numerical values directly without transform\n",
    "dense_model.add(Dense(len(labels)))\n",
    "\n",
    "# compile the model using the ADAM optimization algorithm and a mean squared error loss function\n",
    "dense_model.compile(optimizer='adam', loss='mse')\n",
    "\n",
    "# display some summary information\n",
    "dense_model.summary()"
   ]
  },
  {
   "cell_type": "markdown",
   "metadata": {},
   "source": [
    "##### Convolutional layer model definition"
   ]
  },
  {
   "cell_type": "code",
   "execution_count": 17,
   "metadata": {},
   "outputs": [
    {
     "name": "stdout",
     "output_type": "stream",
     "text": [
      "_________________________________________________________________\n",
      "Layer (type)                 Output Shape              Param #   \n",
      "=================================================================\n",
      "conv3d_1 (Conv3D)            (None, 720, 12, 23, 32)   3488      \n",
      "_________________________________________________________________\n",
      "dense_4 (Dense)              (None, 720, 12, 23, 8)    264       \n",
      "_________________________________________________________________\n",
      "dense_5 (Dense)              (None, 720, 12, 23, 1)    9         \n",
      "=================================================================\n",
      "Total params: 3,761\n",
      "Trainable params: 3,761\n",
      "Non-trainable params: 0\n",
      "_________________________________________________________________\n"
     ]
    }
   ],
   "source": [
    "from keras.models import Sequential\n",
    "from keras.layers import Conv3D, Dense\n",
    "\n",
    "# define the model\n",
    "cnn_model = Sequential()\n",
    "\n",
    "# add an initial 3-D convolutional layer\n",
    "cnn_model.add(Conv3D(filters=32,\n",
    "                     kernel_size=(3, 3, 3),\n",
    "                     activation=\"relu\",\n",
    "                     data_format=\"channels_last\",\n",
    "                     input_shape=(size_times_train, size_lat, size_lon, len(features)),\n",
    "                     padding='same'))\n",
    "\n",
    "# add a fully-connected hidden layer with twice the number of neurons as input attributes (features)\n",
    "cnn_model.add(Dense(len(features) * 2, activation='relu'))\n",
    "\n",
    "# output layer uses no activation function since we are interested\n",
    "# in predicting numerical values directly without transform\n",
    "cnn_model.add(Dense(len(labels)))\n",
    "\n",
    "# compile the model using the ADAM optimization algorithm and a mean squared error loss function\n",
    "cnn_model.compile(optimizer='adam', loss='mse')\n",
    "\n",
    "# display some summary information\n",
    "cnn_model.summary()"
   ]
  },
  {
   "cell_type": "markdown",
   "metadata": {},
   "source": [
    "#### Reshape data for input to convolutional model\n",
    "\n",
    "The convolutional neural network model we've defined above will expect input data arrays to have shape (1, times, lats, lons, features) so we'll reshape the training and prediction input arrays using `numpy.reshape()`."
   ]
  },
  {
   "cell_type": "code",
   "execution_count": 19,
   "metadata": {},
   "outputs": [],
   "source": [
    "shape_x = (1, ) + scaled_train_x.shape\n",
    "shape_y = (1, ) + scaled_train_y.shape\n",
    "train_x_cnn = np.reshape(scaled_train_x, newshape=shape_x)\n",
    "train_y_cnn = np.reshape(scaled_train_y, newshape=shape_y)\n",
    "predict_x_cnn = np.reshape(scaled_predict_x, newshape=shape_x)"
   ]
  },
  {
   "cell_type": "markdown",
   "metadata": {},
   "source": [
    "### Verify the CNN model\n",
    "We'll now train the convolutional neural network model using the first level of data from the dataset, to confirm that the model is working as expected in terms of being able to perform training to our input data."
   ]
  },
  {
   "cell_type": "code",
   "execution_count": 21,
   "metadata": {},
   "outputs": [
    {
     "name": "stdout",
     "output_type": "stream",
     "text": [
      "Epoch 1/3\n",
      " - 4s - loss: 0.0377\n",
      "Epoch 2/3\n",
      " - 4s - loss: 0.0350\n",
      "Epoch 3/3\n",
      " - 4s - loss: 0.0351\n"
     ]
    },
    {
     "data": {
      "text/plain": [
       "<keras.callbacks.History at 0x7f68ac809a58>"
      ]
     },
     "execution_count": 21,
     "metadata": {},
     "output_type": "execute_result"
    }
   ],
   "source": [
    "cnn_model.fit(train_x_cnn, train_y_cnn, shuffle=True, epochs=3, verbose=2)"
   ]
  },
  {
   "cell_type": "markdown",
   "metadata": {},
   "source": [
    "#### Reshape data for dense model input\n",
    "The dense layer neural network model we've defined above will expect input data arrays to have shape (times * lats * lons, features) so we'll reshape the training and prediction input arrays using `numpy.reshape()`."
   ]
  },
  {
   "cell_type": "code",
   "execution_count": 22,
   "metadata": {},
   "outputs": [],
   "source": [
    "shape_x = (size_times_train * size_lat * size_lon, len(features))\n",
    "shape_y = (size_times_train * size_lat * size_lon, len(labels))\n",
    "train_x_dense = np.reshape(scaled_train_x, newshape=shape_x)\n",
    "train_y_dense = np.reshape(scaled_train_y, newshape=shape_y)\n",
    "predict_x_dense = np.reshape(scaled_predict_x, newshape=shape_x)"
   ]
  },
  {
   "cell_type": "markdown",
   "metadata": {},
   "source": [
    "### Verify the dense layers model\n",
    "We'll now train the dense layers neural network model using the first level of data from the dataset, to confirm that the model is working as expected in terms of being able to perform training to our input data."
   ]
  },
  {
   "cell_type": "code",
   "execution_count": 27,
   "metadata": {},
   "outputs": [
    {
     "name": "stdout",
     "output_type": "stream",
     "text": [
      "Epoch 1/3\n",
      " - 10s - loss: 1.7229e-07\n",
      "Epoch 2/3\n",
      " - 9s - loss: 1.7222e-07\n",
      "Epoch 3/3\n",
      " - 7s - loss: 1.7521e-07\n"
     ]
    },
    {
     "data": {
      "text/plain": [
       "<keras.callbacks.History at 0x7f682c10f2e8>"
      ]
     },
     "execution_count": 27,
     "metadata": {},
     "output_type": "execute_result"
    }
   ],
   "source": [
    "dense_model.fit(train_x_dense, train_y_dense, shuffle=True, epochs=3, verbose=2)"
   ]
  },
  {
   "cell_type": "markdown",
   "metadata": {},
   "source": [
    "## Pipeline testing\n",
    "Create and use a scikit-learn Pipeline for fitting, prediction, and parameter scoring."
   ]
  },
  {
   "cell_type": "code",
   "execution_count": null,
   "metadata": {},
   "outputs": [],
   "source": [
    "from sklearn.model_selection import GridSearchCV, train_test_split\n",
    "from sklearn.pipeline import Pipeline\n",
    "\n",
    "X_train, X_test, y_train, y_test = train_test_split(features, labels)\n",
    "\n",
    "pipeline = Pipeline(steps=[\n",
    "    ('scaler', Scaler(args.feature_names)),\n",
    "    ('model', create_dense_model()),\n",
    "])\n",
    "\n",
    "pipeline.fit(X_train, y_train)\n",
    "print('Testing score: ', pipeline.score(X_test, y_test))\n",
    "y_predict = pipeline.predict(X_test)\n",
    "\n",
    "param_to_test_0 = np.arange(1, 11)\n",
    "param_to_test_1 = 2.0 ** np.arange(-6, +6)\n",
    "params = {'param_0': param_to_test_0,\n",
    "          'param_1': param_to_test_1}\n",
    "grid_search = GridSearchCV(pipeline, params, verbose=1).fit(X_train, y_train)\n",
    "print('Final score is: ', grid_search.score(X_test, y_test))"
   ]
  },
  {
   "cell_type": "markdown",
   "metadata": {},
   "source": [
    "#### Allocate arrays to contain predicted values"
   ]
  },
  {
   "cell_type": "code",
   "execution_count": 29,
   "metadata": {},
   "outputs": [],
   "source": [
    "prediction_cnn = np.empty(shape=(size_times_predict, size_lev, size_lat, size_lon))\n",
    "prediction_dense = np.empty(shape=(size_times_predict, size_lev, size_lat, size_lon))"
   ]
  },
  {
   "cell_type": "markdown",
   "metadata": {},
   "source": [
    "### Perform prediction using the fitted models\n",
    "Below we'll perform predictions using the fitted models to confirm that they are properly setup for this operation."
   ]
  },
  {
   "cell_type": "code",
   "execution_count": 31,
   "metadata": {},
   "outputs": [
    {
     "name": "stdout",
     "output_type": "stream",
     "text": [
      "1/1 [==============================] - 0s 359ms/step\n",
      "198720/198720 [==============================] - 4s 19us/step\n"
     ]
    }
   ],
   "source": [
    "predict_y_scaled_cnn = cnn_model.predict(predict_x_cnn, verbose=1)\n",
    "predict_y_scaled_dense = dense_model.predict(predict_x_dense, verbose=1)"
   ]
  },
  {
   "cell_type": "markdown",
   "metadata": {},
   "source": [
    "##### Display some attributes of the predicted values\n",
    "We'll get some attributes of the predicted arrays to demonstrate that the models produced expected results."
   ]
  },
  {
   "cell_type": "code",
   "execution_count": 32,
   "metadata": {},
   "outputs": [
    {
     "name": "stdout",
     "output_type": "stream",
     "text": [
      "CNN model's prediction array shape: (1, 720, 12, 23, 1)\n",
      "Dense model's prediction array shape: (198720, 1)\n"
     ]
    }
   ],
   "source": [
    "print(\"CNN model's prediction array shape: {shape}\".format(shape=predict_y_scaled_cnn.shape))\n",
    "print(\"Dense model's prediction array shape: {shape}\".format(shape=predict_y_scaled_dense.shape))"
   ]
  },
  {
   "cell_type": "code",
   "execution_count": null,
   "metadata": {},
   "outputs": [],
   "source": [
    "    X_train, X_test, y_train, y_test = train_test_split(features, labels)\n",
    "\n",
    "    pipeline = Pipeline(steps=[\n",
    "        ('scaler', Scaler(args.feature_names)),\n",
    "        ('model', create_dense_model()),\n",
    "    ])\n",
    "\n",
    "    pipeline.fit(X_train, y_train)\n",
    "    print('Testing score: ', pipeline.score(X_test, y_test))\n",
    "    y_predict = pipeline.predict(X_test)\n",
    "\n",
    "    param_to_test_0 = np.arange(1, 11)\n",
    "    param_to_test_1 = 2.0 ** np.arange(-6, +6)\n",
    "    params = {'param_0': param_to_test_0,\n",
    "              'param_1': param_to_test_1}\n",
    "    grid_search = GridSearchCV(pipeline, params, verbose=1).fit(X_train, y_train)\n",
    "    print('Final score is: ', grid_search.score(X_test, y_test))\n"
   ]
  },
  {
   "cell_type": "markdown",
   "metadata": {},
   "source": [
    "### Prediction loop\n",
    "We'll loop over each level, taking data for the full grid at that level (all time steps) and training the model with those feature and labels. We'll then use the fitted model to predict label values for the level using input feature values from a different time series. "
   ]
  },
  {
   "cell_type": "code",
   "execution_count": 33,
   "metadata": {},
   "outputs": [
    {
     "name": "stdout",
     "output_type": "stream",
     "text": [
      "Training/predicting for level 0\n",
      "Epoch 1/3\n",
      " - 5s - loss: 0.0368\n",
      "Epoch 2/3\n",
      " - 4s - loss: 0.0384\n",
      "Epoch 3/3\n",
      " - 4s - loss: 0.0391\n",
      "Epoch 1/3\n",
      " - 8s - loss: 1.6340e-07\n",
      "Epoch 2/3\n",
      " - 7s - loss: 1.6436e-07\n",
      "Epoch 3/3\n",
      " - 7s - loss: 1.6870e-07\n",
      "1/1 [==============================] - 0s 406ms/step\n",
      "198720/198720 [==============================] - 4s 18us/step\n",
      "Training/predicting for level 1\n",
      "Epoch 1/3\n",
      " - 4s - loss: 0.0576\n",
      "Epoch 2/3\n",
      " - 4s - loss: 0.0569\n",
      "Epoch 3/3\n",
      " - 4s - loss: 0.0557\n",
      "Epoch 1/3\n",
      " - 7s - loss: 2.1017e-07\n",
      "Epoch 2/3\n",
      " - 9s - loss: 1.7951e-07\n",
      "Epoch 3/3\n"
     ]
    }
   ],
   "source": [
    "# loop over all levels\n",
    "for lev in range(size_lev):\n",
    "    \n",
    "    print(\"Training/predicting for level {level}\".format(level=lev))\n",
    "    \n",
    "    # get the features and labels for training\n",
    "    train_x, train_y = extract_features_labels(netcdf_features_train[0],\n",
    "                                               netcdf_labels_train[0],\n",
    "                                               features,\n",
    "                                               labels,\n",
    "                                               lev)\n",
    "    \n",
    "    # get the features for prediction\n",
    "    predict_x = extract_data_array(xr.open_dataset(netcdf_features_predict[0]),\n",
    "                                   features,\n",
    "                                   lev)\n",
    "\n",
    "    # scale the data between 0 and 1\n",
    "    scalers_x = [MinMaxScaler(feature_range=(0, 1))] * len(features)\n",
    "    scalers_y = [MinMaxScaler(feature_range=(0, 1))] * len(labels)\n",
    "    scaled_train_x, scaled_predict_x, scaled_train_y, scalers_x, scalers_y = \\\n",
    "        scale_4d(train_x, predict_x, train_y, scalers_x, scalers_y)\n",
    "    \n",
    "    # reshape the data for convolutional model input\n",
    "    shape_x = (1, ) + scaled_train_x.shape\n",
    "    shape_y = (1, ) + scaled_train_y.shape\n",
    "    train_x_cnn = np.reshape(scaled_train_x, newshape=shape_x)\n",
    "    train_y_cnn = np.reshape(scaled_train_y, newshape=shape_y)\n",
    "    predict_x_cnn = np.reshape(scaled_predict_x, newshape=shape_x)\n",
    "    \n",
    "    # reshape the data for dense layer model input\n",
    "    shape_x = (size_times_train * size_lat * size_lon, len(features))\n",
    "    shape_y = (size_times_train * size_lat * size_lon, len(labels))\n",
    "    train_x_dense = np.reshape(scaled_train_x, newshape=shape_x)\n",
    "    train_y_dense = np.reshape(scaled_train_y, newshape=shape_y)\n",
    "    predict_x_dense = np.reshape(scaled_predict_x, newshape=shape_x)\n",
    "    \n",
    "    # train the models\n",
    "    cnn_model.fit(train_x_cnn, train_y_cnn, shuffle=True, epochs=3, verbose=2)\n",
    "    dense_model.fit(train_x_dense, train_y_dense, shuffle=True, epochs=3, verbose=2)\n",
    "    \n",
    "    # use the fitted models to make predictions\n",
    "    predict_y_scaled_cnn = cnn_model.predict(predict_x_cnn, verbose=1)\n",
    "    predict_y_scaled_dense = dense_model.predict(predict_x_dense, verbose=1)\n",
    "\n",
    "    # reverse the scaling of the predicted values\n",
    "    # TODO below assumes a single label, will need modification for multiple labels\n",
    "    scaler = scalers_y[0]  # assumes the label scaler was fitted in scale_4d() and side effect carried through\n",
    "        \n",
    "    # output from the dense model is 2-D, good for scaler input\n",
    "    unscaled_predict_y_dense = scaler.inverse_transform(predict_y_scaled_dense)\n",
    "        \n",
    "    # output from CNN model is 5-D, so we'll flatten first to make it amenable to scaling\n",
    "    unscaled_predict_y_cnn = scaler.inverse_transform(predict_y_scaled_cnn.flatten().reshape(-1, 1))\n",
    "    \n",
    "    # reshape data so it's compatible with assignment into prediction arrays\n",
    "    level_shape = (size_times_predict, size_lat, size_lon)\n",
    "    prediction_cnn[:, lev, :, :] = np.reshape(unscaled_predict_y_cnn, newshape=level_shape)\n",
    "    prediction_dense[:, lev, :, :] = np.reshape(unscaled_predict_y_dense, newshape=level_shape)"
   ]
  },
  {
   "cell_type": "markdown",
   "metadata": {},
   "source": [
    "### Output of predicted values as NetCDF\n",
    "At this point the entire dataset has been predicted and the predicted values are in arrays that we can add to an xarray DataSet that we'll then write as NetCDF. We will first make a copy of the prediction features dataset since this has all the coordinate variables and attributes we'll want in the predicted labels dataset, we'll then remove all data variables before adding the predicted values arrays as new variables to the dataset."
   ]
  },
  {
   "cell_type": "code",
   "execution_count": 26,
   "metadata": {},
   "outputs": [],
   "source": [
    "# copy the prediction features dataset since the predicted label(s) should share the same coordinates, etc.\n",
    "ds_predict_labels = xr.open_dataset(data_dir + \"/fv091x180L26_moist_HS.cam.h1.2001-02-25-00000_lowres.nc\")\n",
    "\n",
    "# remove all non-label data variables from the predictions dataset\n",
    "for var in ds_predict_labels.data_vars:\n",
    "    if var not in labels:\n",
    "        ds_predict_labels = ds_predict_labels.drop(var)\n",
    "\n",
    "# create new variables to contain the predicted labels, assign these into the prediction dataset\n",
    "predicted_label_var = xr.Variable(dims=('time', 'lev', 'lat', 'lon'),\n",
    "                                  data=prediction_cnn,\n",
    "                                  attrs=ds_predict_labels[labels[0]].attrs)\n",
    "ds_predict_labels[labels[0] + \"_cnn\"] = predicted_label_var\n",
    "predicted_label_var = xr.Variable(dims=('time', 'lev', 'lat', 'lon'),\n",
    "                                  data=prediction_dense,\n",
    "                                  attrs=ds_predict_labels[labels[0]].attrs)\n",
    "ds_predict_labels[labels[0] + \"_dense\"] = predicted_label_var"
   ]
  },
  {
   "cell_type": "markdown",
   "metadata": {},
   "source": [
    "##### Create variables to contain the differences between predicted values and those computed by NCAR CAM"
   ]
  },
  {
   "cell_type": "code",
   "execution_count": 28,
   "metadata": {},
   "outputs": [],
   "source": [
    "# open the dataset containing the computed label values corresponding to the input features used for prediction\n",
    "ds_cam_labels = xr.open_dataset(data_dir + \"/fv091x180L26_moist_HS.cam.h1.2001-02-25-00000_lowres.nc\")\n",
    "\n",
    "# get the differences between computed and predicted values\n",
    "pttend_diff_cnn = ds_cam_labels[labels[0]].values - prediction_cnn\n",
    "pttend_diff_dense = ds_cam_labels[labels[0]].values - prediction_dense\n",
    "\n",
    "# create the variables and add to the dataset\n",
    "predicted_label_var = xr.Variable(dims=('time', 'lev', 'lat', 'lon'),\n",
    "                                  data=pttend_diff_cnn,\n",
    "                                  attrs=ds_predict_labels[labels[0]].attrs)\n",
    "ds_predict_labels[labels[0] + \"_cnn_diff\"] = predicted_label_var\n",
    "predicted_label_var = xr.Variable(dims=('time', 'lev', 'lat', 'lon'),\n",
    "                                  data=pttend_diff_dense,\n",
    "                                  attrs=ds_predict_labels[labels[0]].attrs)\n",
    "ds_predict_labels[labels[0] + \"_dense_diff\"] = predicted_label_var\n"
   ]
  },
  {
   "cell_type": "markdown",
   "metadata": {},
   "source": [
    "##### Output predicted dataset as NetCDF"
   ]
  },
  {
   "cell_type": "code",
   "execution_count": 29,
   "metadata": {},
   "outputs": [],
   "source": [
    "# write the predicted label(s)' dataset as a NetCDF file\n",
    "ds_predict_labels.to_netcdf(netcdf_predict[0])"
   ]
  },
  {
   "cell_type": "markdown",
   "metadata": {},
   "source": [
    "#### Plot difference for various times/levels\n",
    "We'll use xarray's simple plotting functions to illustrate some of the differences we see at various times and levels."
   ]
  },
  {
   "cell_type": "code",
   "execution_count": 32,
   "metadata": {},
   "outputs": [],
   "source": [
    "diff_dense = ds_predict_labels[labels[0] + \"_dense_diff\"].isel(time=0, lev=0)"
   ]
  },
  {
   "cell_type": "code",
   "execution_count": 34,
   "metadata": {},
   "outputs": [
    {
     "data": {
      "text/plain": [
       "<matplotlib.collections.QuadMesh at 0x2ace3be8cfd0>"
      ]
     },
     "execution_count": 34,
     "metadata": {},
     "output_type": "execute_result"
    },
    {
     "data": {
      "image/png": "[encoded data removed]",
      "text/plain": [
       "<Figure size 432x288 with 2 Axes>"
      ]
     },
     "metadata": {
      "needs_background": "light"
     },
     "output_type": "display_data"
    }
   ],
   "source": [
    "%matplotlib inline\n",
    "diff_dense.plot()"
   ]
  },
  {
   "cell_type": "code",
   "execution_count": null,
   "metadata": {},
   "outputs": [],
   "source": []
  }
 ],
 "metadata": {
  "kernelspec": {
   "display_name": "Python 3",
   "language": "python",
   "name": "python3"
  },
  "language_info": {
   "codemirror_mode": {
    "name": "ipython",
    "version": 3
   },
   "file_extension": ".py",
   "mimetype": "text/x-python",
   "name": "python",
   "nbconvert_exporter": "python",
   "pygments_lexer": "ipython3",
   "version": "3.6.6"
  }
 },
 "nbformat": 4,
 "nbformat_minor": 2
}
