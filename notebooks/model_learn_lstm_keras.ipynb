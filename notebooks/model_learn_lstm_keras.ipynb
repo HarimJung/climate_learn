{
 "cells": [
  {
   "cell_type": "markdown",
   "metadata": {
    "colab_type": "text",
    "id": "74l7lcFQk4kT"
   },
   "source": [
    "## Setup\n"
   ]
  },
  {
   "cell_type": "markdown",
   "metadata": {
    "colab_type": "text",
    "id": "ixh2Tyl1FHaj"
   },
   "source": [
    "In this first cell we''ll load the necessary libraries and setup some logging and display options."
   ]
  },
  {
   "cell_type": "code",
   "execution_count": 1,
   "metadata": {
    "colab": {},
    "colab_type": "code",
    "id": "JaCENoitkiXK"
   },
   "outputs": [],
   "source": [
    "import math\n",
    "\n",
    "import matplotlib.pyplot as plt\n",
    "import numpy as np\n",
    "import pandas as pd\n",
    "import xarray as xr\n",
    "\n",
    "%matplotlib inline"
   ]
  },
  {
   "cell_type": "markdown",
   "metadata": {
    "colab_type": "text",
    "id": "y0gBz25Glf-3"
   },
   "source": [
    "Next we'll load our flow variables and time tendency forcings datasets into Xarray Dataset objects."
   ]
  },
  {
   "cell_type": "code",
   "execution_count": 2,
   "metadata": {
    "colab": {},
    "colab_type": "code",
    "id": "_cC_-nNSlWIO"
   },
   "outputs": [],
   "source": [
    "ds_h0 = xr.open_dataset('C:/home/cam_learn/fv091x180L26_dry_HS.cam.h0.2000-12-27-00000_lowres.nc', decode_times=False)\n",
    "ds_h1 = xr.open_dataset('C:/home/cam_learn/fv091x180L26_dry_HS.cam.h1.2000-12-27-00000_lowres.nc', decode_times=False)"
   ]
  },
  {
   "cell_type": "code",
   "execution_count": 3,
   "metadata": {},
   "outputs": [
    {
     "data": {
      "text/plain": [
       "<bound method Dataset.info of <xarray.Dataset>\n",
       "Dimensions:       (ilev: 27, lat: 12, lev: 26, lon: 23, nbnd: 2, slat: 90, slon: 180, time: 720)\n",
       "Coordinates:\n",
       "  * ilev          (ilev) float64 2.194 4.895 9.882 18.05 29.84 44.62 61.61 ...\n",
       "  * lat           (lat) float64 -90.0 -74.0 -58.0 -42.0 -26.0 -10.0 6.0 22.0 ...\n",
       "  * lev           (lev) float64 3.545 7.389 13.97 23.94 37.23 53.11 70.06 ...\n",
       "  * lon           (lon) float64 0.0 16.0 32.0 48.0 64.0 80.0 96.0 112.0 ...\n",
       "  * slat          (slat) float64 -89.0 -87.0 -85.0 -83.0 -81.0 -79.0 -77.0 ...\n",
       "  * slon          (slon) float64 -1.0 1.0 3.0 5.0 7.0 9.0 11.0 13.0 15.0 ...\n",
       "  * time          (time) float64 0.0 0.02083 0.04167 0.0625 0.08333 0.1042 ...\n",
       "Dimensions without coordinates: nbnd\n",
       "Data variables:\n",
       "    P0            float64 ...\n",
       "    PS            (time, lat, lon) float32 ...\n",
       "    T             (time, lev, lat, lon) float32 ...\n",
       "    U             (time, lev, lat, lon) float32 ...\n",
       "    V             (time, lev, lat, lon) float32 ...\n",
       "    ch4vmr        (time) float64 ...\n",
       "    co2vmr        (time) float64 ...\n",
       "    date          (time) int32 ...\n",
       "    date_written  (time) |S8 ...\n",
       "    datesec       (time) int32 ...\n",
       "    f11vmr        (time) float64 ...\n",
       "    f12vmr        (time) float64 ...\n",
       "    gw            (lat) float64 ...\n",
       "    hyai          (ilev) float64 ...\n",
       "    hyam          (lev) float64 ...\n",
       "    hybi          (ilev) float64 ...\n",
       "    hybm          (lev) float64 ...\n",
       "    mdt           int32 ...\n",
       "    n2ovmr        (time) float64 ...\n",
       "    nbdate        int32 ...\n",
       "    nbsec         int32 ...\n",
       "    ndbase        int32 ...\n",
       "    ndcur         (time) int32 ...\n",
       "    nlon          (lat) int32 ...\n",
       "    nsbase        int32 ...\n",
       "    nscur         (time) int32 ...\n",
       "    nsteph        (time) int32 ...\n",
       "    ntrk          int32 ...\n",
       "    ntrm          int32 ...\n",
       "    ntrn          int32 ...\n",
       "    sol_tsi       (time) float64 ...\n",
       "    time_bnds     (time, nbnd) float64 ...\n",
       "    time_written  (time) |S8 ...\n",
       "    w_stag        (slat) float64 ...\n",
       "    wnummax       (lat) int32 ...\n",
       "Attributes:\n",
       "    Conventions:      CF-1.0\n",
       "    source:           CAM\n",
       "    case:             fv091x180L26_dry_HS\n",
       "    title:            CAM5-FV 2x2L26, dry HS\n",
       "    logname:          cjablono\n",
       "    host:             r1i3n29\n",
       "    Version:          $Name$\n",
       "    revision_Id:      $Id$\n",
       "    initial_file:     /glade2/scratch2/cjablono/fv091x180L26_dry_HS/fv091x180...\n",
       "    topography_file:  /glade/p/work/cjablono/dycore_initial_data/dcmip_james/...\n",
       "    history:          Fri Jul 13 04:01:48 2018: C:\\home\\miniconda3\\Library\\bi...\n",
       "    NCO:              netCDF Operators version 4.7.5 (Homepage = http://nco.s...>"
      ]
     },
     "execution_count": 3,
     "metadata": {},
     "output_type": "execute_result"
    }
   ],
   "source": [
    "ds_h0.info"
   ]
  },
  {
   "cell_type": "code",
   "execution_count": 4,
   "metadata": {},
   "outputs": [
    {
     "data": {
      "text/plain": [
       "<bound method Dataset.info of <xarray.Dataset>\n",
       "Dimensions:       (ilev: 27, lat: 12, lev: 26, lon: 23, nbnd: 2, slat: 90, slon: 180, time: 720)\n",
       "Coordinates:\n",
       "  * ilev          (ilev) float64 2.194 4.895 9.882 18.05 29.84 44.62 61.61 ...\n",
       "  * lat           (lat) float64 -90.0 -74.0 -58.0 -42.0 -26.0 -10.0 6.0 22.0 ...\n",
       "  * lev           (lev) float64 3.545 7.389 13.97 23.94 37.23 53.11 70.06 ...\n",
       "  * lon           (lon) float64 0.0 16.0 32.0 48.0 64.0 80.0 96.0 112.0 ...\n",
       "  * slat          (slat) float64 -89.0 -87.0 -85.0 -83.0 -81.0 -79.0 -77.0 ...\n",
       "  * slon          (slon) float64 -1.0 1.0 3.0 5.0 7.0 9.0 11.0 13.0 15.0 ...\n",
       "  * time          (time) float64 0.0 0.02083 0.04167 0.0625 0.08333 0.1042 ...\n",
       "Dimensions without coordinates: nbnd\n",
       "Data variables:\n",
       "    P0            float64 ...\n",
       "    PTTEND        (time, lev, lat, lon) float32 ...\n",
       "    PUTEND        (time, lev, lat, lon) float32 ...\n",
       "    PVTEND        (time, lev, lat, lon) float32 ...\n",
       "    ch4vmr        (time) float64 ...\n",
       "    co2vmr        (time) float64 ...\n",
       "    date          (time) int32 ...\n",
       "    date_written  (time) |S8 ...\n",
       "    datesec       (time) int32 ...\n",
       "    f11vmr        (time) float64 ...\n",
       "    f12vmr        (time) float64 ...\n",
       "    gw            (lat) float64 ...\n",
       "    hyai          (ilev) float64 ...\n",
       "    hyam          (lev) float64 ...\n",
       "    hybi          (ilev) float64 ...\n",
       "    hybm          (lev) float64 ...\n",
       "    mdt           int32 ...\n",
       "    n2ovmr        (time) float64 ...\n",
       "    nbdate        int32 ...\n",
       "    nbsec         int32 ...\n",
       "    ndbase        int32 ...\n",
       "    ndcur         (time) int32 ...\n",
       "    nlon          (lat) int32 ...\n",
       "    nsbase        int32 ...\n",
       "    nscur         (time) int32 ...\n",
       "    nsteph        (time) int32 ...\n",
       "    ntrk          int32 ...\n",
       "    ntrm          int32 ...\n",
       "    ntrn          int32 ...\n",
       "    sol_tsi       (time) float64 ...\n",
       "    time_bnds     (time, nbnd) float64 ...\n",
       "    time_written  (time) |S8 ...\n",
       "    w_stag        (slat) float64 ...\n",
       "    wnummax       (lat) int32 ...\n",
       "Attributes:\n",
       "    Conventions:      CF-1.0\n",
       "    source:           CAM\n",
       "    case:             fv091x180L26_dry_HS\n",
       "    title:            CAM5-FV 2x2L26, dry HS\n",
       "    logname:          cjablono\n",
       "    host:             r1i3n29\n",
       "    Version:          $Name$\n",
       "    revision_Id:      $Id$\n",
       "    initial_file:     /glade2/scratch2/cjablono/fv091x180L26_dry_HS/fv091x180...\n",
       "    topography_file:  /glade/p/work/cjablono/dycore_initial_data/dcmip_james/...\n",
       "    history:          Fri Jul 13 04:02:27 2018: C:\\home\\miniconda3\\Library\\bi...\n",
       "    NCO:              netCDF Operators version 4.7.5 (Homepage = http://nco.s...>"
      ]
     },
     "execution_count": 4,
     "metadata": {},
     "output_type": "execute_result"
    }
   ],
   "source": [
    "ds_h1.info"
   ]
  },
  {
   "cell_type": "markdown",
   "metadata": {},
   "source": [
    "Look at the time variable in order to work out the initial date, number of steps, units, etc."
   ]
  },
  {
   "cell_type": "code",
   "execution_count": 52,
   "metadata": {},
   "outputs": [
    {
     "data": {
      "text/plain": [
       "<xarray.IndexVariable 'time' (time: 720)>\n",
       "array([ 0.      ,  0.020833,  0.041667, ..., 14.9375  , 14.958333, 14.979167])\n",
       "Attributes:\n",
       "    long_name:  time\n",
       "    units:      days since 2000-12-27 00:00:00\n",
       "    calendar:   noleap\n",
       "    bounds:     time_bnds"
      ]
     },
     "execution_count": 52,
     "metadata": {},
     "output_type": "execute_result"
    }
   ],
   "source": [
    "ds_h0.variables['time']"
   ]
  },
  {
   "cell_type": "markdown",
   "metadata": {},
   "source": [
    "Make sure we have the same time values for the targets data."
   ]
  },
  {
   "cell_type": "code",
   "execution_count": 53,
   "metadata": {},
   "outputs": [],
   "source": [
    "if (ds_h0.variables['time'].values != ds_h1.variables['time'].values).any():\n",
    "    print('ERROR: Non-matching time values')"
   ]
  },
  {
   "cell_type": "markdown",
   "metadata": {},
   "source": [
    "Create array of datetime values from the times."
   ]
  },
  {
   "cell_type": "code",
   "execution_count": 9,
   "metadata": {},
   "outputs": [
    {
     "data": {
      "text/plain": [
       "0   2000-12-27 00:00:00\n",
       "1   2000-12-27 00:30:00\n",
       "2   2000-12-27 01:00:00\n",
       "3   2000-12-27 01:30:00\n",
       "4   2000-12-27 02:00:00\n",
       "dtype: datetime64[ns]"
      ]
     },
     "execution_count": 9,
     "metadata": {},
     "output_type": "execute_result"
    }
   ],
   "source": [
    "from datetime import datetime, timedelta\n",
    "times = ds_h0.variables['time'].values.flatten()\n",
    "initial = datetime(2000, 12, 27)\n",
    "datetimes = np.empty(shape=times.shape, dtype='datetime64[m]')\n",
    "for i in range(datetimes.size):\n",
    "    datetimes[i] = initial + timedelta(days=times[i])\n",
    "timestamps = pd.Series(datetimes)\n",
    "timestamps.head()"
   ]
  },
  {
   "cell_type": "markdown",
   "metadata": {},
   "source": [
    "## Feature and target selection"
   ]
  },
  {
   "cell_type": "markdown",
   "metadata": {},
   "source": [
    "As features we'll use the following flow variables:\n",
    "\n",
    "* U (west-east (zonal) wind, m/s)\n",
    "* V (south-north (meridional) wind, m/s)\n",
    "* T (temperature, K)\n",
    "* PS (surface pressure, Pa)\n",
    "\n",
    "Time tendency forcings are the targets (labels) that our model should learn to predict.\n",
    "\n",
    "* PTTEND (time tendency of the temperature)\n",
    "* PUTEND (time tendency of the zonal wind)\n",
    "* PVTEND (time tendency of the meridional wind)\n",
    "\n",
    "Eventually we'll train/fit our model for an entire global 3-D grid, but for this example we'll select a single lat/lon/lev location, getting all time steps for the feature and target variables at the lat/lon/lev location."
   ]
  },
  {
   "cell_type": "code",
   "execution_count": 10,
   "metadata": {},
   "outputs": [],
   "source": [
    "ps = pd.Series(ds_h0.variables['PS'].values[:, 0, 0])\n",
    "t = pd.Series(ds_h0.variables['T'].values[:, 0, 0, 0])\n",
    "u = pd.Series(ds_h0.variables['U'].values[:, 0, 0, 0])\n",
    "v = pd.Series(ds_h0.variables['V'].values[:, 0, 0, 0])\n",
    "pttend = pd.Series(ds_h1.variables['PTTEND'].values[:, 0, 0, 0])\n",
    "putend = pd.Series(ds_h1.variables['PUTEND'].values[:, 0, 0, 0])\n",
    "pvtend = pd.Series(ds_h1.variables['PVTEND'].values[:, 0, 0, 0])"
   ]
  },
  {
   "cell_type": "markdown",
   "metadata": {},
   "source": [
    "Convert to a Pandas DataFrame containing inputs (features) and output (label/target) for use when predicting time tendency forcings."
   ]
  },
  {
   "cell_type": "code",
   "execution_count": 11,
   "metadata": {},
   "outputs": [
    {
     "data": {
      "text/html": [
       "<div>\n",
       "<style scoped>\n",
       "    .dataframe tbody tr th:only-of-type {\n",
       "        vertical-align: middle;\n",
       "    }\n",
       "\n",
       "    .dataframe tbody tr th {\n",
       "        vertical-align: top;\n",
       "    }\n",
       "\n",
       "    .dataframe thead th {\n",
       "        text-align: right;\n",
       "    }\n",
       "</style>\n",
       "<table border=\"1\" class=\"dataframe\">\n",
       "  <thead>\n",
       "    <tr style=\"text-align: right;\">\n",
       "      <th></th>\n",
       "      <th>PS</th>\n",
       "      <th>T</th>\n",
       "      <th>U</th>\n",
       "      <th>V</th>\n",
       "      <th>PTTEND</th>\n",
       "      <th>PUTEND</th>\n",
       "      <th>PVTEND</th>\n",
       "    </tr>\n",
       "    <tr>\n",
       "      <th>timestamp</th>\n",
       "      <th></th>\n",
       "      <th></th>\n",
       "      <th></th>\n",
       "      <th></th>\n",
       "      <th></th>\n",
       "      <th></th>\n",
       "      <th></th>\n",
       "    </tr>\n",
       "  </thead>\n",
       "  <tbody>\n",
       "    <tr>\n",
       "      <th>2000-12-27 00:00:00</th>\n",
       "      <td>101099.062500</td>\n",
       "      <td>210.862564</td>\n",
       "      <td>-0.814972</td>\n",
       "      <td>-0.280670</td>\n",
       "      <td>-0.000003</td>\n",
       "      <td>0.0</td>\n",
       "      <td>0.0</td>\n",
       "    </tr>\n",
       "    <tr>\n",
       "      <th>2000-12-27 00:30:00</th>\n",
       "      <td>101108.921875</td>\n",
       "      <td>210.860840</td>\n",
       "      <td>-0.820554</td>\n",
       "      <td>-0.299137</td>\n",
       "      <td>-0.000003</td>\n",
       "      <td>0.0</td>\n",
       "      <td>0.0</td>\n",
       "    </tr>\n",
       "    <tr>\n",
       "      <th>2000-12-27 01:00:00</th>\n",
       "      <td>101118.484375</td>\n",
       "      <td>210.858978</td>\n",
       "      <td>-0.826019</td>\n",
       "      <td>-0.317353</td>\n",
       "      <td>-0.000003</td>\n",
       "      <td>0.0</td>\n",
       "      <td>0.0</td>\n",
       "    </tr>\n",
       "    <tr>\n",
       "      <th>2000-12-27 01:30:00</th>\n",
       "      <td>101127.906250</td>\n",
       "      <td>210.857178</td>\n",
       "      <td>-0.828459</td>\n",
       "      <td>-0.333411</td>\n",
       "      <td>-0.000003</td>\n",
       "      <td>0.0</td>\n",
       "      <td>0.0</td>\n",
       "    </tr>\n",
       "    <tr>\n",
       "      <th>2000-12-27 02:00:00</th>\n",
       "      <td>101137.390625</td>\n",
       "      <td>210.855576</td>\n",
       "      <td>-0.826649</td>\n",
       "      <td>-0.346365</td>\n",
       "      <td>-0.000003</td>\n",
       "      <td>0.0</td>\n",
       "      <td>0.0</td>\n",
       "    </tr>\n",
       "  </tbody>\n",
       "</table>\n",
       "</div>"
      ],
      "text/plain": [
       "                                PS           T         U         V    PTTEND  \\\n",
       "timestamp                                                                      \n",
       "2000-12-27 00:00:00  101099.062500  210.862564 -0.814972 -0.280670 -0.000003   \n",
       "2000-12-27 00:30:00  101108.921875  210.860840 -0.820554 -0.299137 -0.000003   \n",
       "2000-12-27 01:00:00  101118.484375  210.858978 -0.826019 -0.317353 -0.000003   \n",
       "2000-12-27 01:30:00  101127.906250  210.857178 -0.828459 -0.333411 -0.000003   \n",
       "2000-12-27 02:00:00  101137.390625  210.855576 -0.826649 -0.346365 -0.000003   \n",
       "\n",
       "                     PUTEND  PVTEND  \n",
       "timestamp                            \n",
       "2000-12-27 00:00:00     0.0     0.0  \n",
       "2000-12-27 00:30:00     0.0     0.0  \n",
       "2000-12-27 01:00:00     0.0     0.0  \n",
       "2000-12-27 01:30:00     0.0     0.0  \n",
       "2000-12-27 02:00:00     0.0     0.0  "
      ]
     },
     "execution_count": 11,
     "metadata": {},
     "output_type": "execute_result"
    }
   ],
   "source": [
    "df_vals = pd.DataFrame({'timestamp': timestamps,\n",
    "                        'PS': ps,\n",
    "                        'T': t,\n",
    "                        'U': u,\n",
    "                        'V': v,\n",
    "                        'PTTEND': pttend,\n",
    "                        'PUTEND': putend,\n",
    "                        'PVTEND': pvtend})\n",
    "df_vals.set_index('timestamp', inplace=True)\n",
    "df_vals.head()"
   ]
  },
  {
   "cell_type": "code",
   "execution_count": 12,
   "metadata": {},
   "outputs": [
    {
     "name": "stdout",
     "output_type": "stream",
     "text": [
      "<class 'pandas.core.frame.DataFrame'>\n",
      "DatetimeIndex: 720 entries, 2000-12-27 00:00:00 to 2001-01-10 23:30:00\n",
      "Data columns (total 7 columns):\n",
      "PS        720 non-null float32\n",
      "T         720 non-null float32\n",
      "U         720 non-null float32\n",
      "V         720 non-null float32\n",
      "PTTEND    720 non-null float32\n",
      "PUTEND    720 non-null float32\n",
      "PVTEND    720 non-null float32\n",
      "dtypes: float32(7)\n",
      "memory usage: 25.3 KB\n"
     ]
    }
   ],
   "source": [
    "df_vals.info()"
   ]
  },
  {
   "cell_type": "markdown",
   "metadata": {},
   "source": [
    "Normalize the feature variables using scikit-learn's [MinMaxScaler](http://scikit-learn.org/stable/modules/generated/sklearn.preprocessing.MinMaxScaler.html)."
   ]
  },
  {
   "cell_type": "code",
   "execution_count": 13,
   "metadata": {},
   "outputs": [
    {
     "data": {
      "text/plain": [
       "array([[0.50631714, 1.        , 0.22656655, ..., 0.        , 0.        ,\n",
       "        0.        ],\n",
       "       [0.5129471 , 0.9949341 , 0.22496124, ..., 0.00498581, 0.        ,\n",
       "        0.        ],\n",
       "       [0.51937866, 0.98950195, 0.2233897 , ..., 0.01043701, 0.        ,\n",
       "        0.        ],\n",
       "       ...,\n",
       "       [0.12479401, 0.23565674, 0.98422444, ..., 0.76434326, 0.        ,\n",
       "        0.        ],\n",
       "       [0.12210846, 0.23876953, 0.98267317, ..., 0.76122856, 0.        ,\n",
       "        0.        ],\n",
       "       [0.11936951, 0.2397461 , 0.98426366, ..., 0.76023674, 0.        ,\n",
       "        0.        ]], dtype=float32)"
      ]
     },
     "execution_count": 13,
     "metadata": {},
     "output_type": "execute_result"
    }
   ],
   "source": [
    "from sklearn.preprocessing import MinMaxScaler\n",
    "scaler = MinMaxScaler(feature_range=(0, 1))\n",
    "scaled = scaler.fit_transform(df_vals.values)\n",
    "scaled"
   ]
  },
  {
   "cell_type": "markdown",
   "metadata": {},
   "source": [
    "Normalize the feature variables using scikit-learn's MinMaxScaler."
   ]
  },
  {
   "cell_type": "code",
   "execution_count": 72,
   "metadata": {},
   "outputs": [
    {
     "data": {
      "text/plain": [
       "array([[0.50631714, 1.        , 0.22656655, 0.69448346, 0.        ],\n",
       "       [0.5129471 , 0.9949341 , 0.22496124, 0.68799436, 0.00498581],\n",
       "       [0.51937866, 0.98950195, 0.2233897 , 0.6815935 , 0.01043701],\n",
       "       ...,\n",
       "       [0.12479401, 0.23565674, 0.98422444, 0.7495539 , 0.76434326],\n",
       "       [0.12210846, 0.23876953, 0.98267317, 0.7519671 , 0.76122856],\n",
       "       [0.11936951, 0.2397461 , 0.98426366, 0.7531688 , 0.76023674]],\n",
       "      dtype=float32)"
      ]
     },
     "execution_count": 72,
     "metadata": {},
     "output_type": "execute_result"
    }
   ],
   "source": [
    "from sklearn.preprocessing import MinMaxScaler\n",
    "scaler = MinMaxScaler(feature_range=(0, 1))\n",
    "scaled = scaler.fit_transform(df_temp.values)\n",
    "scaled"
   ]
  },
  {
   "cell_type": "markdown",
   "metadata": {},
   "source": [
    "Replace the original columns with the scaled values."
   ]
  },
  {
   "cell_type": "code",
   "execution_count": 14,
   "metadata": {},
   "outputs": [
    {
     "data": {
      "text/html": [
       "<div>\n",
       "<style scoped>\n",
       "    .dataframe tbody tr th:only-of-type {\n",
       "        vertical-align: middle;\n",
       "    }\n",
       "\n",
       "    .dataframe tbody tr th {\n",
       "        vertical-align: top;\n",
       "    }\n",
       "\n",
       "    .dataframe thead th {\n",
       "        text-align: right;\n",
       "    }\n",
       "</style>\n",
       "<table border=\"1\" class=\"dataframe\">\n",
       "  <thead>\n",
       "    <tr style=\"text-align: right;\">\n",
       "      <th></th>\n",
       "      <th>PS</th>\n",
       "      <th>T</th>\n",
       "      <th>U</th>\n",
       "      <th>V</th>\n",
       "      <th>PTTEND</th>\n",
       "      <th>PUTEND</th>\n",
       "      <th>PVTEND</th>\n",
       "    </tr>\n",
       "    <tr>\n",
       "      <th>timestamp</th>\n",
       "      <th></th>\n",
       "      <th></th>\n",
       "      <th></th>\n",
       "      <th></th>\n",
       "      <th></th>\n",
       "      <th></th>\n",
       "      <th></th>\n",
       "    </tr>\n",
       "  </thead>\n",
       "  <tbody>\n",
       "    <tr>\n",
       "      <th>2000-12-27 00:00:00</th>\n",
       "      <td>0.506317</td>\n",
       "      <td>1.000000</td>\n",
       "      <td>0.226567</td>\n",
       "      <td>0.694483</td>\n",
       "      <td>0.000000</td>\n",
       "      <td>0.0</td>\n",
       "      <td>0.0</td>\n",
       "    </tr>\n",
       "    <tr>\n",
       "      <th>2000-12-27 00:30:00</th>\n",
       "      <td>0.512947</td>\n",
       "      <td>0.994934</td>\n",
       "      <td>0.224961</td>\n",
       "      <td>0.687994</td>\n",
       "      <td>0.004986</td>\n",
       "      <td>0.0</td>\n",
       "      <td>0.0</td>\n",
       "    </tr>\n",
       "    <tr>\n",
       "      <th>2000-12-27 01:00:00</th>\n",
       "      <td>0.519379</td>\n",
       "      <td>0.989502</td>\n",
       "      <td>0.223390</td>\n",
       "      <td>0.681593</td>\n",
       "      <td>0.010437</td>\n",
       "      <td>0.0</td>\n",
       "      <td>0.0</td>\n",
       "    </tr>\n",
       "    <tr>\n",
       "      <th>2000-12-27 01:30:00</th>\n",
       "      <td>0.525711</td>\n",
       "      <td>0.984192</td>\n",
       "      <td>0.222688</td>\n",
       "      <td>0.675951</td>\n",
       "      <td>0.015718</td>\n",
       "      <td>0.0</td>\n",
       "      <td>0.0</td>\n",
       "    </tr>\n",
       "    <tr>\n",
       "      <th>2000-12-27 02:00:00</th>\n",
       "      <td>0.532089</td>\n",
       "      <td>0.979492</td>\n",
       "      <td>0.223209</td>\n",
       "      <td>0.671399</td>\n",
       "      <td>0.020433</td>\n",
       "      <td>0.0</td>\n",
       "      <td>0.0</td>\n",
       "    </tr>\n",
       "  </tbody>\n",
       "</table>\n",
       "</div>"
      ],
      "text/plain": [
       "                           PS         T         U         V    PTTEND  PUTEND  \\\n",
       "timestamp                                                                       \n",
       "2000-12-27 00:00:00  0.506317  1.000000  0.226567  0.694483  0.000000     0.0   \n",
       "2000-12-27 00:30:00  0.512947  0.994934  0.224961  0.687994  0.004986     0.0   \n",
       "2000-12-27 01:00:00  0.519379  0.989502  0.223390  0.681593  0.010437     0.0   \n",
       "2000-12-27 01:30:00  0.525711  0.984192  0.222688  0.675951  0.015718     0.0   \n",
       "2000-12-27 02:00:00  0.532089  0.979492  0.223209  0.671399  0.020433     0.0   \n",
       "\n",
       "                     PVTEND  \n",
       "timestamp                    \n",
       "2000-12-27 00:00:00     0.0  \n",
       "2000-12-27 00:30:00     0.0  \n",
       "2000-12-27 01:00:00     0.0  \n",
       "2000-12-27 01:30:00     0.0  \n",
       "2000-12-27 02:00:00     0.0  "
      ]
     },
     "execution_count": 14,
     "metadata": {},
     "output_type": "execute_result"
    }
   ],
   "source": [
    "for i in range(len(df_vals.columns)):\n",
    "    s = pd.Series(scaled[:, i])\n",
    "    df_vals[df_vals.columns[i]] = s.values\n",
    "df_vals.head()"
   ]
  },
  {
   "cell_type": "markdown",
   "metadata": {},
   "source": [
    "## Split the data into training and testing datasets"
   ]
  },
  {
   "cell_type": "markdown",
   "metadata": {},
   "source": [
    "For simplicity we'll start with an even split of 50% for training and 50% for testing."
   ]
  },
  {
   "cell_type": "code",
   "execution_count": 21,
   "metadata": {},
   "outputs": [
    {
     "name": "stdout",
     "output_type": "stream",
     "text": [
      "(1, 360, 4) (1,) (1, 360, 4) (1,)\n"
     ]
    }
   ],
   "source": [
    "# the values array is 720 rows x 10 columns\n",
    "train = df_vals.values[:360, :]   # rows 0 - 359\n",
    "test = df_vals.values[360:, :]   # rows 360 - 719\n",
    "\n",
    "# # split into input and outputs\n",
    "# train_X, train_y = train[:, :-3], train[:, -3:]\n",
    "# test_X, test_y = test[:, :-3], test[:, -3:]\n",
    "\n",
    "# use final value of final column as target, until we work out how to predict multiple targets\n",
    "train_X, train_y = train[:, :-3], train[-1:, -1:]\n",
    "test_X, test_y = test[:, :-3], test[-1:, -1:]\n",
    "\n",
    "# # convert shape of outputs from (360, 1) to (1, 360)\n",
    "# # train_y = np.swapaxes(train_y, 0, 1)\n",
    "# # test_y = np.swapaxes(test_y, 0, 1)\n",
    "train_y = train_y.flatten()\n",
    "test_y = test_y.flatten()\n",
    "\n",
    "# reshape input to be 3D [samples, timesteps, features]\n",
    "train_X = train_X.reshape((1, train_X.shape[0], train_X.shape[1]))\n",
    "test_X = test_X.reshape((1, test_X.shape[0], test_X.shape[1]))\n",
    "print(train_X.shape, train_y.shape, test_X.shape, test_y.shape)"
   ]
  },
  {
   "cell_type": "markdown",
   "metadata": {},
   "source": [
    "## Create the LSTM recurrent neural network"
   ]
  },
  {
   "cell_type": "markdown",
   "metadata": {},
   "source": [
    "Next, we'll instantiate and configure a Long Short-Term Memory (LSTM) recurrent neural network using Keras's [Sequential](https://keras.io/models/sequential/) class. We'll train this model using an Adam version of stochastic gradient descent, and use the Mean Absolute Error (MAE) loss function.\n",
    "\n",
    "We will define the LSTM with 50 neurons in the first hidden layer and 1 neuron in the output layer for predicting the PVTEND target. The input shape will be 1 time step with 4 features."
   ]
  },
  {
   "cell_type": "code",
   "execution_count": 22,
   "metadata": {},
   "outputs": [],
   "source": [
    "import keras\n",
    "\n",
    "# design network\n",
    "model = keras.models.Sequential()\n",
    "model.add(keras.layers.LSTM(50, input_shape=(train_X.shape[1], train_X.shape[2])))\n",
    "model.add(keras.layers.Dense(1))\n",
    "model.compile(loss='mae', optimizer='adam')"
   ]
  },
  {
   "cell_type": "markdown",
   "metadata": {},
   "source": [
    "## Train and evaluate the model"
   ]
  },
  {
   "cell_type": "markdown",
   "metadata": {},
   "source": [
    "The model will be fit for 50 training epochs with a batch size of 72."
   ]
  },
  {
   "cell_type": "code",
   "execution_count": 23,
   "metadata": {
    "colab": {},
    "colab_type": "code",
    "id": "Q6waMx-cMg71"
   },
   "outputs": [
    {
     "name": "stdout",
     "output_type": "stream",
     "text": [
      "Train on 1 samples, validate on 1 samples\n",
      "Epoch 1/50\n",
      " - 1s - loss: 0.0667 - val_loss: 0.0676\n",
      "Epoch 2/50\n",
      " - 0s - loss: 7.8451e-04 - val_loss: 0.0698\n",
      "Epoch 3/50\n",
      " - 0s - loss: 0.0026 - val_loss: 0.0457\n",
      "Epoch 4/50\n",
      " - 0s - loss: 0.0193 - val_loss: 0.0487\n",
      "Epoch 5/50\n",
      " - 0s - loss: 0.0156 - val_loss: 0.0676\n",
      "Epoch 6/50\n",
      " - 0s - loss: 0.0028 - val_loss: 0.0675\n",
      "Epoch 7/50\n",
      " - 0s - loss: 0.0036 - val_loss: 0.0544\n",
      "Epoch 8/50\n",
      " - 0s - loss: 0.0078 - val_loss: 0.0555\n",
      "Epoch 9/50\n",
      " - 0s - loss: 0.0062 - val_loss: 0.0672\n",
      "Epoch 10/50\n",
      " - 0s - loss: 0.0051 - val_loss: 0.0668\n",
      "Epoch 11/50\n",
      " - 0s - loss: 0.0053 - val_loss: 0.0565\n",
      "Epoch 12/50\n",
      " - 0s - loss: 0.0034 - val_loss: 0.0571\n",
      "Epoch 13/50\n",
      " - 0s - loss: 0.0025 - val_loss: 0.0666\n",
      "Epoch 14/50\n",
      " - 0s - loss: 0.0065 - val_loss: 0.0661\n",
      "Epoch 15/50\n",
      " - 0s - loss: 0.0064 - val_loss: 0.0571\n",
      "Epoch 16/50\n",
      " - 0s - loss: 0.0012 - val_loss: 0.0575\n",
      "Epoch 17/50\n",
      " - 0s - loss: 4.7965e-04 - val_loss: 0.0659\n",
      "Epoch 18/50\n",
      " - 0s - loss: 0.0073 - val_loss: 0.0653\n",
      "Epoch 19/50\n",
      " - 0s - loss: 0.0071 - val_loss: 0.0570\n",
      "Epoch 20/50\n",
      " - 0s - loss: 3.7594e-05 - val_loss: 0.0422\n",
      "Epoch 21/50\n",
      " - 0s - loss: 0.0128 - val_loss: 0.0364\n",
      "Epoch 22/50\n",
      " - 0s - loss: 0.0177 - val_loss: 0.0386\n",
      "Epoch 23/50\n",
      " - 0s - loss: 0.0154 - val_loss: 0.0477\n",
      "Epoch 24/50\n",
      " - 0s - loss: 0.0070 - val_loss: 0.0629\n",
      "Epoch 25/50\n",
      " - 0s - loss: 0.0067 - val_loss: 0.0693\n",
      "Epoch 26/50\n",
      " - 0s - loss: 0.0127 - val_loss: 0.0679\n",
      "Epoch 27/50\n",
      " - 0s - loss: 0.0119 - val_loss: 0.0597\n",
      "Epoch 28/50\n",
      " - 0s - loss: 0.0051 - val_loss: 0.0455\n",
      "Epoch 29/50\n",
      " - 0s - loss: 0.0070 - val_loss: 0.0396\n",
      "Epoch 30/50\n",
      " - 0s - loss: 0.0118 - val_loss: 0.0410\n",
      "Epoch 31/50\n",
      " - 0s - loss: 0.0102 - val_loss: 0.0490\n",
      "Epoch 32/50\n",
      " - 0s - loss: 0.0029 - val_loss: 0.0627\n",
      "Epoch 33/50\n",
      " - 0s - loss: 0.0094 - val_loss: 0.0683\n",
      "Epoch 34/50\n",
      " - 0s - loss: 0.0146 - val_loss: 0.0666\n",
      "Epoch 35/50\n",
      " - 0s - loss: 0.0135 - val_loss: 0.0586\n",
      "Epoch 36/50\n",
      " - 0s - loss: 0.0069 - val_loss: 0.0448\n",
      "Epoch 37/50\n",
      " - 0s - loss: 0.0047 - val_loss: 0.0391\n",
      "Epoch 38/50\n",
      " - 0s - loss: 0.0095 - val_loss: 0.0403\n",
      "Epoch 39/50\n",
      " - 0s - loss: 0.0082 - val_loss: 0.0476\n",
      "Epoch 40/50\n",
      " - 0s - loss: 0.0015 - val_loss: 0.0605\n",
      "Epoch 41/50\n",
      " - 0s - loss: 0.0100 - val_loss: 0.0658\n",
      "Epoch 42/50\n",
      " - 0s - loss: 0.0149 - val_loss: 0.0641\n",
      "Epoch 43/50\n",
      " - 0s - loss: 0.0137 - val_loss: 0.0564\n",
      "Epoch 44/50\n",
      " - 0s - loss: 0.0073 - val_loss: 0.0433\n",
      "Epoch 45/50\n",
      " - 0s - loss: 0.0038 - val_loss: 0.0377\n",
      "Epoch 46/50\n",
      " - 0s - loss: 0.0084 - val_loss: 0.0388\n",
      "Epoch 47/50\n",
      " - 0s - loss: 0.0072 - val_loss: 0.0458\n",
      "Epoch 48/50\n",
      " - 0s - loss: 8.3975e-04 - val_loss: 0.0582\n",
      "Epoch 49/50\n",
      " - 0s - loss: 0.0101 - val_loss: 0.0632\n",
      "Epoch 50/50\n",
      " - 0s - loss: 0.0147 - val_loss: 0.0616\n"
     ]
    },
    {
     "data": {
      "image/png": "[encoded data removed]",
      "text/plain": [
       "<Figure size 432x288 with 1 Axes>"
      ]
     },
     "metadata": {},
     "output_type": "display_data"
    }
   ],
   "source": [
    "# fit network\n",
    "history = model.fit(train_X, train_y, epochs=50, batch_size=72, validation_data=(test_X, test_y), verbose=2, shuffle=False)\n",
    "\n",
    "# plot history\n",
    "plt.plot(history.history['loss'], label='train')\n",
    "plt.plot(history.history['val_loss'], label='test')\n",
    "plt.legend()\n",
    "plt.show()"
   ]
  },
  {
   "cell_type": "code",
   "execution_count": 0,
   "metadata": {
    "colab": {},
    "colab_type": "code",
    "id": "wVzN6_fWZDJn"
   },
   "outputs": [],
   "source": []
  }
 ],
 "metadata": {
  "accelerator": "GPU",
  "colab": {
   "collapsed_sections": [],
   "include_colab_link": true,
   "name": "model_learn.ipynb",
   "provenance": [],
   "version": "0.3.2"
  },
  "kernelspec": {
   "display_name": "Python 3",
   "language": "python",
   "name": "python3"
  },
  "language_info": {
   "codemirror_mode": {
    "name": "ipython",
    "version": 3
   },
   "file_extension": ".py",
   "mimetype": "text/x-python",
   "name": "python",
   "nbconvert_exporter": "python",
   "pygments_lexer": "ipython3",
   "version": "3.6.3"
  }
 },
 "nbformat": 4,
 "nbformat_minor": 1
}
